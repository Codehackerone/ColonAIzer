{
  "nbformat": 4,
  "nbformat_minor": 0,
  "metadata": {
    "colab": {
      "name": "Detecting Colon Cancer-3.ipynb",
      "provenance": [],
      "collapsed_sections": []
    },
    "kernelspec": {
      "name": "python3",
      "display_name": "Python 3"
    },
    "language_info": {
      "name": "python"
    },
    "accelerator": "GPU"
  },
  "cells": [
    {
      "cell_type": "code",
      "metadata": {
        "id": "48-aV5MD4fKe"
      },
      "source": [
        "import os\n",
        "import numpy as np\n",
        "import cv2\n",
        "from glob import glob\n",
        "import tensorflow as tf\n",
        "from sklearn.model_selection import train_test_split\n",
        "from tensorflow.keras.callbacks import EarlyStopping, ModelCheckpoint, ReduceLROnPlateau, CSVLogger, TensorBoard\n",
        "from tensorflow.keras.layers import *\n",
        "from tensorflow.keras.models import Model\n",
        "from tqdm import tqdm\n",
        "import matplotlib.pyplot as plt\n",
        "from tensorflow.keras.utils import CustomObjectScope\n",
        "import string"
      ],
      "execution_count": 1,
      "outputs": []
    },
    {
      "cell_type": "code",
      "metadata": {
        "colab": {
          "base_uri": "https://localhost:8080/"
        },
        "id": "bRtr8iQW4jIC",
        "outputId": "c8888e1e-8ce9-4a27-b657-5ad60137ad26"
      },
      "source": [
        "from google.colab import drive\n",
        "drive.mount('/content/drive')"
      ],
      "execution_count": 2,
      "outputs": [
        {
          "output_type": "stream",
          "name": "stdout",
          "text": [
            "Drive already mounted at /content/drive; to attempt to forcibly remount, call drive.mount(\"/content/drive\", force_remount=True).\n"
          ]
        }
      ]
    },
    {
      "cell_type": "code",
      "metadata": {
        "id": "8h3bQChS4tgL"
      },
      "source": [
        "def load_data(path, split=0.1):\n",
        "  images = sorted(glob(os.path.join(path +'/*/Original/*')))\n",
        "  masks = sorted(glob(os.path.join(path+ \"/*/Ground Truth/*\")))\n",
        "\n",
        "  total_size = len(images)\n",
        "  valid_size = int(split * total_size)\n",
        "  test_size = int(split * total_size)\n",
        "\n",
        "  train_x, valid_x = train_test_split(images, test_size=valid_size, random_state=101)\n",
        "  train_y, valid_y = train_test_split(masks, test_size=valid_size, random_state=101)\n",
        "\n",
        "  train_x, test_x = train_test_split(train_x, test_size=test_size, random_state=101)\n",
        "  train_y, test_y = train_test_split(train_y, test_size=test_size, random_state=101)\n",
        "\n",
        "  return (train_x, train_y), (valid_x, valid_y), (test_x, test_y)"
      ],
      "execution_count": 3,
      "outputs": []
    },
    {
      "cell_type": "code",
      "metadata": {
        "id": "4G39CarR5cyL"
      },
      "source": [
        "def read_image(path):\n",
        "     path = path.decode()\n",
        "     x = cv2.imread(path, cv2.IMREAD_COLOR)\n",
        "     x = cv2.resize(x, (256, 256))\n",
        "     x = x/255.0\n",
        "     return x"
      ],
      "execution_count": 4,
      "outputs": []
    },
    {
      "cell_type": "code",
      "metadata": {
        "id": "ftsk5zqH5hno"
      },
      "source": [
        "def read_mask(path):\n",
        "     path = path.decode()\n",
        "     x = cv2.imread(path, cv2.IMREAD_GRAYSCALE)\n",
        "     x = cv2.resize(x, (256, 256))\n",
        "     x = x/255.0\n",
        "     x = np.expand_dims(x, axis=-1)\n",
        "     return x"
      ],
      "execution_count": 5,
      "outputs": []
    },
    {
      "cell_type": "code",
      "metadata": {
        "id": "wF1OKqmX5leH"
      },
      "source": [
        "def tf_parse(x, y):\n",
        "    def _parse(x, y):\n",
        "        x = read_image(x)\n",
        "        y = read_mask(y)\n",
        "        return x, y\n",
        "\n",
        "    x, y = tf.numpy_function(_parse, [x, y], [tf.float64, tf.float64])\n",
        "    x.set_shape([256, 256, 3])\n",
        "    y.set_shape([256, 256, 1])\n",
        "    return x, y"
      ],
      "execution_count": 6,
      "outputs": []
    },
    {
      "cell_type": "code",
      "metadata": {
        "id": "Mu58EyG45nWe"
      },
      "source": [
        "def tf_dataset(x, y, batch=8):\n",
        "    dataset = tf.data.Dataset.from_tensor_slices((x, y))\n",
        "    dataset = dataset.map(tf_parse)\n",
        "    dataset = dataset.batch(batch)\n",
        "    dataset = dataset.repeat()\n",
        "    return dataset"
      ],
      "execution_count": 7,
      "outputs": []
    },
    {
      "cell_type": "code",
      "metadata": {
        "id": "e5VEXRcT5sin"
      },
      "source": [
        "def conv_block(x, num_filters):\n",
        "    x = Conv2D(num_filters, (3, 3), padding=\"same\")(x)\n",
        "    x = BatchNormalization()(x)\n",
        "    x = Activation(\"relu\")(x)\n",
        "\n",
        "    x = Conv2D(num_filters, (3, 3), padding=\"same\")(x)\n",
        "    x = BatchNormalization()(x)\n",
        "    x = Activation(\"relu\")(x)\n",
        "\n",
        "    return x"
      ],
      "execution_count": 8,
      "outputs": []
    },
    {
      "cell_type": "code",
      "metadata": {
        "id": "R0XCPXZh5vwl"
      },
      "source": [
        "def build_model():\n",
        "    size = 256\n",
        "    num_filters = [64, 128, 512, 1024]\n",
        "    inputs = Input((size, size, 3))\n",
        "\n",
        "    skip_x = []\n",
        "    x = inputs\n",
        "\n",
        "    for f in num_filters:\n",
        "        x = conv_block(x, f)\n",
        "        skip_x.append(x)\n",
        "        x = MaxPool2D((2, 2))(x)\n",
        "\n",
        "    x = conv_block(x, num_filters[-1])\n",
        "\n",
        "    num_filters.reverse()\n",
        "    skip_x.reverse()\n",
        "\n",
        "    for i, f in enumerate(num_filters):\n",
        "        x = UpSampling2D((2, 2))(x)\n",
        "        xs = skip_x[i]\n",
        "        x = Concatenate()([x, xs])\n",
        "        x = conv_block(x, f)\n",
        "\n",
        "    x = Conv2D(1, (1, 1), padding=\"same\")(x)\n",
        "    x = Activation(\"sigmoid\")(x)\n",
        "\n",
        "    return Model(inputs, x)"
      ],
      "execution_count": 9,
      "outputs": []
    },
    {
      "cell_type": "code",
      "metadata": {
        "id": "BZLAqc2y_T3s"
      },
      "source": [
        "def iou(y_true, y_pred):\n",
        "     def f(y_true, y_pred):\n",
        "         intersection = (y_true * y_pred).sum()\n",
        "         union = y_true.sum() + y_pred.sum() - intersection\n",
        "         x = (intersection + 1e-15) / (union + 1e-15)\n",
        "         x = x.astype(np.float32)\n",
        "         return x\n",
        "     return tf.numpy_function(f, [y_true, y_pred], tf.float32)"
      ],
      "execution_count": 10,
      "outputs": []
    },
    {
      "cell_type": "code",
      "metadata": {
        "id": "vqTiRGmR_ZGy"
      },
      "source": [
        "if __name__ == \"__main__\":\n",
        "     path = \"/content/drive/MyDrive/CVC ClinicDB/\"\n",
        "     (train_x, train_y), (valid_x, valid_y), (test_x, test_y) = load_data(path)\n"
      ],
      "execution_count": 11,
      "outputs": []
    },
    {
      "cell_type": "code",
      "metadata": {
        "id": "Y5WfspHi7pUz"
      },
      "source": [
        "callbacks = [\n",
        "          ModelCheckpoint(\"files/model.h5\"),\n",
        "          ReduceLROnPlateau(monitor='val_loss', factor=0.1, patience=4),\n",
        "          CSVLogger(\"files/data.csv\"),\n",
        "          TensorBoard(),\n",
        "          EarlyStopping(monitor='val_loss', patience=10, restore_best_weights=False)\n",
        "     ]"
      ],
      "execution_count": 12,
      "outputs": []
    },
    {
      "cell_type": "code",
      "metadata": {
        "id": "N_skLDIg_co0"
      },
      "source": [
        "batch = 8\n",
        "lr = 1e-4\n",
        "epochs = 50\n",
        "train_dataset = tf_dataset(train_x, train_y, batch=batch)\n",
        "valid_dataset = tf_dataset(valid_x, valid_y, batch=batch)"
      ],
      "execution_count": 13,
      "outputs": []
    },
    {
      "cell_type": "code",
      "metadata": {
        "id": "nIkLLYB9_g7-"
      },
      "source": [
        "model = build_model()\n",
        "opt = tf.keras.optimizers.Adam(lr)\n",
        "metrics = [\"acc\", tf.keras.metrics.Recall(), tf.keras.metrics.Precision(), iou]\n",
        "model.compile(loss=\"binary_crossentropy\", optimizer=opt, metrics=metrics)"
      ],
      "execution_count": 14,
      "outputs": []
    },
    {
      "cell_type": "code",
      "metadata": {
        "id": "x1QgjG3h_rfo"
      },
      "source": [
        "train_steps = len(train_x)//batch\n",
        "valid_steps = len(valid_x)//batch\n",
        "\n",
        "if len(train_x) % batch != 0:\n",
        "    train_steps += 1\n",
        "if len(valid_x) % batch != 0:\n",
        "    valid_steps += 1"
      ],
      "execution_count": 15,
      "outputs": []
    },
    {
      "cell_type": "code",
      "metadata": {
        "colab": {
          "base_uri": "https://localhost:8080/"
        },
        "id": "g-MMDxaQINky",
        "outputId": "3d9a91c1-46df-478d-b5bf-0149abdcba60"
      },
      "source": [
        " model.fit(\n",
        "        train_dataset,\n",
        "        validation_data=valid_dataset,\n",
        "        epochs=epochs,\n",
        "        steps_per_epoch=train_steps,\n",
        "        validation_steps=valid_steps,\n",
        "        callbacks=callbacks\n",
        "        )"
      ],
      "execution_count": 16,
      "outputs": [
        {
          "output_type": "stream",
          "name": "stdout",
          "text": [
            "Epoch 1/50\n",
            "62/62 [==============================] - 254s 4s/step - loss: 0.3547 - acc: 0.8880 - recall: 0.4303 - precision: 0.4143 - iou: 0.1508 - val_loss: 0.4928 - val_acc: 0.9212 - val_recall: 0.0000e+00 - val_precision: 0.0000e+00 - val_iou: 0.0652\n",
            "Epoch 2/50\n",
            "62/62 [==============================] - 127s 2s/step - loss: 0.2213 - acc: 0.9335 - recall: 0.4938 - precision: 0.7224 - iou: 0.2246 - val_loss: 0.3871 - val_acc: 0.9212 - val_recall: 0.0000e+00 - val_precision: 0.0000e+00 - val_iou: 0.0658\n",
            "Epoch 3/50\n",
            "62/62 [==============================] - 123s 2s/step - loss: 0.1862 - acc: 0.9447 - recall: 0.5911 - precision: 0.7816 - iou: 0.2847 - val_loss: 0.3109 - val_acc: 0.9212 - val_recall: 0.0000e+00 - val_precision: 0.0000e+00 - val_iou: 0.0507\n",
            "Epoch 4/50\n",
            "62/62 [==============================] - 127s 2s/step - loss: 0.1605 - acc: 0.9526 - recall: 0.6682 - precision: 0.8101 - iou: 0.3369 - val_loss: 0.2823 - val_acc: 0.9208 - val_recall: 0.0000e+00 - val_precision: 0.0000e+00 - val_iou: 0.0409\n",
            "Epoch 5/50\n",
            "62/62 [==============================] - 122s 2s/step - loss: 0.1446 - acc: 0.9571 - recall: 0.7045 - precision: 0.8295 - iou: 0.3717 - val_loss: 0.2775 - val_acc: 0.9175 - val_recall: 0.0164 - val_precision: 0.2080 - val_iou: 0.0462\n",
            "Epoch 6/50\n",
            "62/62 [==============================] - 127s 2s/step - loss: 0.1291 - acc: 0.9620 - recall: 0.7434 - precision: 0.8505 - iou: 0.4089 - val_loss: 0.2802 - val_acc: 0.9167 - val_recall: 0.0306 - val_precision: 0.2615 - val_iou: 0.0468\n",
            "Epoch 7/50\n",
            "62/62 [==============================] - 123s 2s/step - loss: 0.1145 - acc: 0.9666 - recall: 0.7739 - precision: 0.8745 - iou: 0.4454 - val_loss: 0.2707 - val_acc: 0.9190 - val_recall: 0.0446 - val_precision: 0.3846 - val_iou: 0.0591\n",
            "Epoch 8/50\n",
            "62/62 [==============================] - 123s 2s/step - loss: 0.1065 - acc: 0.9687 - recall: 0.7939 - precision: 0.8800 - iou: 0.4724 - val_loss: 0.2774 - val_acc: 0.9189 - val_recall: 0.2151 - val_precision: 0.4758 - val_iou: 0.1401\n",
            "Epoch 9/50\n",
            "62/62 [==============================] - 127s 2s/step - loss: 0.0993 - acc: 0.9704 - recall: 0.8011 - precision: 0.8918 - iou: 0.4919 - val_loss: 0.2588 - val_acc: 0.9193 - val_recall: 0.2588 - val_precision: 0.4848 - val_iou: 0.1643\n",
            "Epoch 10/50\n",
            "62/62 [==============================] - 127s 2s/step - loss: 0.0870 - acc: 0.9746 - recall: 0.8322 - precision: 0.9097 - iou: 0.5325 - val_loss: 0.1888 - val_acc: 0.9402 - val_recall: 0.4197 - val_precision: 0.7150 - val_iou: 0.2639\n",
            "Epoch 11/50\n",
            "62/62 [==============================] - 127s 2s/step - loss: 0.0801 - acc: 0.9764 - recall: 0.8438 - precision: 0.9186 - iou: 0.5531 - val_loss: 0.1391 - val_acc: 0.9544 - val_recall: 0.7186 - val_precision: 0.7206 - val_iou: 0.3957\n",
            "Epoch 12/50\n",
            "62/62 [==============================] - 127s 2s/step - loss: 0.0779 - acc: 0.9762 - recall: 0.8472 - precision: 0.9136 - iou: 0.5655 - val_loss: 0.1113 - val_acc: 0.9642 - val_recall: 0.7319 - val_precision: 0.8138 - val_iou: 0.4391\n",
            "Epoch 13/50\n",
            "62/62 [==============================] - 123s 2s/step - loss: 0.0709 - acc: 0.9783 - recall: 0.8592 - precision: 0.9243 - iou: 0.5914 - val_loss: 0.1371 - val_acc: 0.9519 - val_recall: 0.7491 - val_precision: 0.6874 - val_iou: 0.4199\n",
            "Epoch 14/50\n",
            "62/62 [==============================] - 123s 2s/step - loss: 0.0644 - acc: 0.9803 - recall: 0.8733 - precision: 0.9335 - iou: 0.6134 - val_loss: 0.0993 - val_acc: 0.9662 - val_recall: 0.7843 - val_precision: 0.8007 - val_iou: 0.4949\n",
            "Epoch 15/50\n",
            "62/62 [==============================] - ETA: 0s - loss: 0.0591 - acc: 0.9819 - recall: 0.8823 - precision: 0.9427 - iou: 0.6363Epoch 16/50\n",
            "62/62 [==============================] - 123s 2s/step - loss: 0.0590 - acc: 0.9810 - recall: 0.8819 - precision: 0.9332 - iou: 0.6389 - val_loss: 0.0961 - val_acc: 0.9691 - val_recall: 0.6931 - val_precision: 0.9048 - val_iou: 0.4749\n",
            "Epoch 17/50\n",
            "62/62 [==============================] - 123s 2s/step - loss: 0.0536 - acc: 0.9828 - recall: 0.8904 - precision: 0.9451 - iou: 0.6628 - val_loss: 0.0950 - val_acc: 0.9668 - val_recall: 0.8162 - val_precision: 0.7901 - val_iou: 0.5190\n",
            "Epoch 18/50\n",
            "62/62 [==============================] - 123s 2s/step - loss: 0.0497 - acc: 0.9837 - recall: 0.8971 - precision: 0.9480 - iou: 0.6788 - val_loss: 0.1077 - val_acc: 0.9628 - val_recall: 0.8477 - val_precision: 0.7412 - val_iou: 0.5041\n",
            "Epoch 19/50\n",
            "62/62 [==============================] - 127s 2s/step - loss: 0.0435 - acc: 0.9857 - recall: 0.9104 - precision: 0.9577 - iou: 0.7060 - val_loss: 0.0710 - val_acc: 0.9771 - val_recall: 0.7660 - val_precision: 0.9472 - val_iou: 0.5616\n",
            "Epoch 20/50\n",
            "62/62 [==============================] - 127s 2s/step - loss: 0.0391 - acc: 0.9870 - recall: 0.9201 - precision: 0.9625 - iou: 0.7265 - val_loss: 0.0659 - val_acc: 0.9788 - val_recall: 0.8138 - val_precision: 0.9270 - val_iou: 0.5883\n",
            "Epoch 21/50\n",
            "62/62 [==============================] - 123s 2s/step - loss: 0.0375 - acc: 0.9873 - recall: 0.9208 - precision: 0.9650 - iou: 0.7375 - val_loss: 0.0711 - val_acc: 0.9751 - val_recall: 0.8150 - val_precision: 0.8760 - val_iou: 0.5793\n",
            "Epoch 22/50\n",
            "62/62 [==============================] - 127s 2s/step - loss: 0.0397 - acc: 0.9862 - recall: 0.9152 - precision: 0.9581 - iou: 0.7328 - val_loss: 0.0745 - val_acc: 0.9757 - val_recall: 0.7904 - val_precision: 0.9082 - val_iou: 0.5892\n",
            "Epoch 23/50\n",
            "62/62 [==============================] - 127s 2s/step - loss: 0.0389 - acc: 0.9861 - recall: 0.9123 - precision: 0.9591 - iou: 0.7382 - val_loss: 0.0909 - val_acc: 0.9696 - val_recall: 0.7997 - val_precision: 0.8276 - val_iou: 0.5719\n",
            "Epoch 24/50\n",
            "62/62 [==============================] - 127s 2s/step - loss: 0.0407 - acc: 0.9849 - recall: 0.9071 - precision: 0.9519 - iou: 0.7320 - val_loss: 0.1544 - val_acc: 0.9470 - val_recall: 0.8986 - val_precision: 0.6218 - val_iou: 0.4948\n",
            "Epoch 25/50\n",
            "62/62 [==============================] - 127s 2s/step - loss: 0.0328 - acc: 0.9878 - recall: 0.9293 - precision: 0.9617 - iou: 0.7608 - val_loss: 0.0565 - val_acc: 0.9811 - val_recall: 0.8424 - val_precision: 0.9357 - val_iou: 0.6578\n",
            "Epoch 26/50\n",
            "62/62 [==============================] - 127s 2s/step - loss: 0.0283 - acc: 0.9897 - recall: 0.9372 - precision: 0.9753 - iou: 0.7827 - val_loss: 0.0559 - val_acc: 0.9820 - val_recall: 0.8318 - val_precision: 0.9575 - val_iou: 0.6637\n",
            "Epoch 27/50\n",
            "62/62 [==============================] - 127s 2s/step - loss: 0.0271 - acc: 0.9901 - recall: 0.9400 - precision: 0.9772 - iou: 0.7897 - val_loss: 0.0563 - val_acc: 0.9822 - val_recall: 0.8287 - val_precision: 0.9624 - val_iou: 0.6641\n",
            "Epoch 28/50\n",
            "62/62 [==============================] - 127s 2s/step - loss: 0.0263 - acc: 0.9903 - recall: 0.9414 - precision: 0.9784 - iou: 0.7940 - val_loss: 0.0565 - val_acc: 0.9822 - val_recall: 0.8281 - val_precision: 0.9643 - val_iou: 0.6656\n",
            "Epoch 29/50\n",
            "62/62 [==============================] - 123s 2s/step - loss: 0.0257 - acc: 0.9905 - recall: 0.9424 - precision: 0.9794 - iou: 0.7973 - val_loss: 0.0565 - val_acc: 0.9824 - val_recall: 0.8284 - val_precision: 0.9654 - val_iou: 0.6680\n",
            "Epoch 30/50\n",
            "62/62 [==============================] - 123s 2s/step - loss: 0.0252 - acc: 0.9907 - recall: 0.9433 - precision: 0.9802 - iou: 0.8002 - val_loss: 0.0565 - val_acc: 0.9825 - val_recall: 0.8291 - val_precision: 0.9662 - val_iou: 0.6706\n",
            "Epoch 31/50\n",
            "62/62 [==============================] - 127s 2s/step - loss: 0.0247 - acc: 0.9909 - recall: 0.9471 - precision: 0.9797 - iou: 0.8030 - val_loss: 0.0560 - val_acc: 0.9826 - val_recall: 0.8293 - val_precision: 0.9669 - val_iou: 0.6736\n",
            "Epoch 32/50\n",
            "62/62 [==============================] - 127s 2s/step - loss: 0.0246 - acc: 0.9909 - recall: 0.9452 - precision: 0.9812 - iou: 0.8030 - val_loss: 0.0557 - val_acc: 0.9826 - val_recall: 0.8300 - val_precision: 0.9666 - val_iou: 0.6753\n",
            "Epoch 33/50\n",
            "62/62 [==============================] - 127s 2s/step - loss: 0.0246 - acc: 0.9909 - recall: 0.9449 - precision: 0.9815 - iou: 0.8033 - val_loss: 0.0556 - val_acc: 0.9826 - val_recall: 0.8308 - val_precision: 0.9664 - val_iou: 0.6765\n",
            "Epoch 34/50\n",
            "62/62 [==============================] - 123s 2s/step - loss: 0.0245 - acc: 0.9910 - recall: 0.9450 - precision: 0.9816 - iou: 0.8037 - val_loss: 0.0555 - val_acc: 0.9827 - val_recall: 0.8313 - val_precision: 0.9661 - val_iou: 0.6772\n",
            "Epoch 35/50\n",
            "62/62 [==============================] - 127s 2s/step - loss: 0.0245 - acc: 0.9910 - recall: 0.9450 - precision: 0.9817 - iou: 0.8040 - val_loss: 0.0555 - val_acc: 0.9827 - val_recall: 0.8315 - val_precision: 0.9660 - val_iou: 0.6778\n",
            "Epoch 36/50\n",
            "62/62 [==============================] - 127s 2s/step - loss: 0.0244 - acc: 0.9910 - recall: 0.9451 - precision: 0.9819 - iou: 0.8043 - val_loss: 0.0555 - val_acc: 0.9827 - val_recall: 0.8317 - val_precision: 0.9660 - val_iou: 0.6782\n",
            "Epoch 37/50\n",
            "62/62 [==============================] - 127s 2s/step - loss: 0.0244 - acc: 0.9910 - recall: 0.9451 - precision: 0.9820 - iou: 0.8047 - val_loss: 0.0554 - val_acc: 0.9827 - val_recall: 0.8319 - val_precision: 0.9661 - val_iou: 0.6786\n",
            "Epoch 38/50\n",
            "62/62 [==============================] - 127s 2s/step - loss: 0.0243 - acc: 0.9910 - recall: 0.9452 - precision: 0.9821 - iou: 0.8050 - val_loss: 0.0554 - val_acc: 0.9827 - val_recall: 0.8319 - val_precision: 0.9662 - val_iou: 0.6789\n",
            "Epoch 39/50\n",
            "62/62 [==============================] - 127s 2s/step - loss: 0.0242 - acc: 0.9910 - recall: 0.9453 - precision: 0.9822 - iou: 0.8053 - val_loss: 0.0554 - val_acc: 0.9827 - val_recall: 0.8321 - val_precision: 0.9662 - val_iou: 0.6793\n",
            "Epoch 40/50\n",
            "62/62 [==============================] - 123s 2s/step - loss: 0.0242 - acc: 0.9911 - recall: 0.9458 - precision: 0.9821 - iou: 0.8057 - val_loss: 0.0554 - val_acc: 0.9827 - val_recall: 0.8323 - val_precision: 0.9661 - val_iou: 0.6796\n",
            "Epoch 41/50\n",
            "62/62 [==============================] - 123s 2s/step - loss: 0.0242 - acc: 0.9911 - recall: 0.9457 - precision: 0.9821 - iou: 0.8058 - val_loss: 0.0554 - val_acc: 0.9827 - val_recall: 0.8324 - val_precision: 0.9661 - val_iou: 0.6798\n",
            "Epoch 42/50\n",
            "62/62 [==============================] - 123s 2s/step - loss: 0.0242 - acc: 0.9911 - recall: 0.9457 - precision: 0.9822 - iou: 0.8058 - val_loss: 0.0554 - val_acc: 0.9827 - val_recall: 0.8324 - val_precision: 0.9661 - val_iou: 0.6800\n",
            "Epoch 43/50\n",
            "62/62 [==============================] - 127s 2s/step - loss: 0.0242 - acc: 0.9911 - recall: 0.9457 - precision: 0.9822 - iou: 0.8058 - val_loss: 0.0554 - val_acc: 0.9827 - val_recall: 0.8324 - val_precision: 0.9661 - val_iou: 0.6800\n",
            "Epoch 44/50\n",
            "62/62 [==============================] - 127s 2s/step - loss: 0.0242 - acc: 0.9911 - recall: 0.9456 - precision: 0.9823 - iou: 0.8058 - val_loss: 0.0553 - val_acc: 0.9827 - val_recall: 0.8324 - val_precision: 0.9661 - val_iou: 0.6801\n",
            "Epoch 45/50\n",
            "62/62 [==============================] - 127s 2s/step - loss: 0.0241 - acc: 0.9911 - recall: 0.9456 - precision: 0.9823 - iou: 0.8059 - val_loss: 0.0553 - val_acc: 0.9827 - val_recall: 0.8324 - val_precision: 0.9661 - val_iou: 0.6801\n",
            "Epoch 46/50\n",
            "62/62 [==============================] - 127s 2s/step - loss: 0.0241 - acc: 0.9911 - recall: 0.9456 - precision: 0.9823 - iou: 0.8059 - val_loss: 0.0553 - val_acc: 0.9828 - val_recall: 0.8324 - val_precision: 0.9661 - val_iou: 0.6802\n",
            "Epoch 47/50\n",
            "62/62 [==============================] - 122s 2s/step - loss: 0.0241 - acc: 0.9911 - recall: 0.9456 - precision: 0.9823 - iou: 0.8059 - val_loss: 0.0553 - val_acc: 0.9828 - val_recall: 0.8325 - val_precision: 0.9661 - val_iou: 0.6802\n",
            "Epoch 48/50\n",
            "62/62 [==============================] - 127s 2s/step - loss: 0.0241 - acc: 0.9911 - recall: 0.9456 - precision: 0.9823 - iou: 0.8059 - val_loss: 0.0553 - val_acc: 0.9828 - val_recall: 0.8325 - val_precision: 0.9661 - val_iou: 0.6802\n",
            "Epoch 49/50\n",
            "62/62 [==============================] - 122s 2s/step - loss: 0.0241 - acc: 0.9911 - recall: 0.9456 - precision: 0.9823 - iou: 0.8059 - val_loss: 0.0553 - val_acc: 0.9828 - val_recall: 0.8325 - val_precision: 0.9661 - val_iou: 0.6802\n",
            "Epoch 50/50\n",
            "62/62 [==============================] - 122s 2s/step - loss: 0.0241 - acc: 0.9911 - recall: 0.9456 - precision: 0.9823 - iou: 0.8059 - val_loss: 0.0553 - val_acc: 0.9828 - val_recall: 0.8325 - val_precision: 0.9661 - val_iou: 0.6803\n"
          ]
        },
        {
          "output_type": "execute_result",
          "data": {
            "text/plain": [
              "<keras.callbacks.History at 0x7f45400e1c10>"
            ]
          },
          "metadata": {},
          "execution_count": 16
        }
      ]
    },
    {
      "cell_type": "markdown",
      "metadata": {
        "id": "GSpLnzIHeKOB"
      },
      "source": [
        "# Testing the model"
      ]
    },
    {
      "cell_type": "code",
      "metadata": {
        "id": "-QzN9kNHJAeT"
      },
      "source": [
        "def mask_parse(mask):\n",
        "  mask = np.squeeze(mask)\n",
        "  mask = [mask, mask, mask]\n",
        "  mask = np.transpose(mask, (1, 2, 0))\n",
        "  return mask"
      ],
      "execution_count": 16,
      "outputs": []
    },
    {
      "cell_type": "code",
      "metadata": {
        "id": "AS-Bmzzi054q"
      },
      "source": [
        "with CustomObjectScope({'iou': iou}):\n",
        "  model = tf.keras.models.load_model(\"/content/drive/MyDrive/Colon Cancer/coloncancer_50epochs.h5\")"
      ],
      "execution_count": 17,
      "outputs": []
    },
    {
      "cell_type": "code",
      "metadata": {
        "id": "8WvhlHsVjvxO"
      },
      "source": [
        "def read_image(path):\n",
        "     x = cv2.imread(path, cv2.IMREAD_COLOR)\n",
        "     x = cv2.resize(x, (256, 256))\n",
        "     x = x/255.0\n",
        "     return x\n",
        "\n",
        "def read_mask(path):\n",
        "  x = cv2.imread(path, cv2.IMREAD_GRAYSCALE)\n",
        "  x = cv2.resize(x, (256, 256))\n",
        "  x = np.expand_dims(x, axis=-1)\n",
        "  return x"
      ],
      "execution_count": 24,
      "outputs": []
    },
    {
      "cell_type": "code",
      "metadata": {
        "id": "tttKVcE4DnKs"
      },
      "source": [
        "if __name__ == \"__main__\":\n",
        "     path = \"/content/drive/MyDrive/CVC ClinicDB/\"\n",
        "     batch_size = 16\n",
        "     (train_x, train_y), (valid_x, valid_y), (test_x, test_y) = load_data(path)"
      ],
      "execution_count": 19,
      "outputs": []
    },
    {
      "cell_type": "code",
      "metadata": {
        "id": "7m0UJSgm_CIW"
      },
      "source": [
        "batch_size=16\n",
        "test_dataset = tf_dataset(test_x, test_y, batch=batch_size)\n",
        "test_steps = (len(test_x)//batch_size)\n",
        "if len(test_x) % batch_size != 0:\n",
        "    test_steps += 1"
      ],
      "execution_count": 20,
      "outputs": []
    },
    {
      "cell_type": "code",
      "metadata": {
        "id": "qhbZlWTQ_Fyz"
      },
      "source": [
        "#model.evaluate(test_dataset, steps=test_steps"
      ],
      "execution_count": 21,
      "outputs": []
    },
    {
      "cell_type": "code",
      "metadata": {
        "id": "nhOreyOm3e2x"
      },
      "source": [
        "def display(no=0):\n",
        "  x=test_x[no]\n",
        "  y=test_y[no]\n",
        "  plt.figure(figsize=(15, 15))\n",
        "  plt.subplot(1, 3, 1)\n",
        "  plt.title('Input Image')\n",
        "  plt.imshow(plt.imread(x))\n",
        "  plt.axis('off')\n",
        "  plt.subplot(1, 3, 2)\n",
        "  plt.title('Ground Truth')\n",
        "  plt.imshow(plt.imread(y))\n",
        "  plt.axis('off')\n",
        "  plt.subplot(1, 3, 3)\n",
        "  plt.title('Predicted Image')\n",
        "  x=read_image(x)\n",
        "  y=read_mask(y)\n",
        "  y_pred = model.predict(np.expand_dims(x, axis=0))[0] > 0.5\n",
        "  y_pred = mask_parse(y_pred) * 255.0\n",
        "  plt.imshow(y_pred, cmap='gray')\n",
        "  plt.axis('off')\n",
        "  plt.show()"
      ],
      "execution_count": 58,
      "outputs": []
    },
    {
      "cell_type": "code",
      "metadata": {
        "colab": {
          "base_uri": "https://localhost:8080/",
          "height": 310
        },
        "id": "7t3nvCk75m_H",
        "outputId": "21e24149-cb22-4d55-c675-165c5d8c9564"
      },
      "source": [
        "display(21)"
      ],
      "execution_count": 59,
      "outputs": [
        {
          "output_type": "stream",
          "name": "stderr",
          "text": [
            "Clipping input data to the valid range for imshow with RGB data ([0..1] for floats or [0..255] for integers).\n"
          ]
        },
        {
          "output_type": "display_data",
          "data": {
            "image/png": "[encoded data removed]",
            "text/plain": [
              "<Figure size 1080x1080 with 3 Axes>"
            ]
          },
          "metadata": {
            "needs_background": "light"
          }
        }
      ]
    }
  ]
}